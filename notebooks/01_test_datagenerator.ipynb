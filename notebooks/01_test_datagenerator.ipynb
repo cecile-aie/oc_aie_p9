{
 "cells": [
  {
   "cell_type": "markdown",
   "id": "e55ee2fc",
   "metadata": {},
   "source": [
    "# ✅ P9 — Test rapide du DataGenerator (HistoDataset)\n",
    "\n",
    "Ce notebook vérifie :\n",
    "1. Chargement et **shape** des batches\n",
    "2. **Comptes par classe** et politique de split sans fuite\n",
    "3. **Filtre qualité** (scores + seuils JSON par classe)\n",
    "4. **Normalisation Vahadane** via `torch_staintools` (comparaison ON/OFF)\n",
    "5. **Visualisation** (grille d’images) et **débit** du DataLoader\n",
    "6. **Non-réutilisation** des échantillons en **val/test**\n",
    "\n",
    "> **Pré-requis** :\n",
    "- Le package `p9dg/` est à la racine de votre `WORKDIR` (ex: `/workspace`).\n",
    "- Les datasets sont montés sous `/data` avec les dossiers :\n",
    "  - `/data/NCT-CRC-HE-100K/` (train)\n",
    "  - `/data/CRC-VAL-HE-7K/` (val/test)\n",
    "- Le fichier `configs/seuils_par_classe.json` est présent (facultatif, des défauts sont prévus).\n"
   ]
  },
  {
   "cell_type": "code",
   "execution_count": 1,
   "id": "0f928696",
   "metadata": {
    "name": "config"
   },
   "outputs": [
    {
     "ename": "SyntaxError",
     "evalue": "invalid syntax (histo_dataset.py, line 329)",
     "output_type": "error",
     "traceback": [
      "Traceback \u001b[0;36m(most recent call last)\u001b[0m:\n",
      "\u001b[0m  File \u001b[1;32m/opt/conda/lib/python3.11/site-packages/IPython/core/interactiveshell.py:3577\u001b[0m in \u001b[1;35mrun_code\u001b[0m\n    exec(code_obj, self.user_global_ns, self.user_ns)\u001b[0m\n",
      "\u001b[0;36m  Cell \u001b[0;32mIn[1], line 5\u001b[0;36m\n\u001b[0;31m    from p9dg.histo_dataset import HistoDataset, BalancedRoundRobinSampler\u001b[0;36m\n",
      "\u001b[0;36m  File \u001b[0;32m/workspace/p9dg/histo_dataset.py:329\u001b[0;36m\u001b[0m\n\u001b[0;31m    self._build_epoch_indices(rng)(self, epoch: int):\u001b[0m\n\u001b[0m                                              ^\u001b[0m\n\u001b[0;31mSyntaxError\u001b[0m\u001b[0;31m:\u001b[0m invalid syntax\n"
     ]
    }
   ],
   "source": [
    "import os, time, random, numpy as np\n",
    "import torch\n",
    "from torch.utils.data import DataLoader\n",
    "from PIL import Image\n",
    "from p9dg.histo_dataset import HistoDataset, BalancedRoundRobinSampler\n",
    "\n",
    "ROOT_DATA = \"/data\"  # adapte si besoin\n",
    "THRESHOLDS_JSON = \"configs/seuils_par_classe.json\"  # ou chemin absolu\n",
    "\n",
    "BATCH_SIZE = 64\n",
    "IMG_SIZE = 256\n",
    "NUM_WORKERS = 4  # 0 pour debug\n",
    "DEVICE = \"cuda\" if torch.cuda.is_available() else \"cpu\"\n",
    "DEVICE"
   ]
  },
  {
   "cell_type": "markdown",
   "id": "8343fc81",
   "metadata": {},
   "source": [
    "## 1) Instanciation des datasets (train/val/test)"
   ]
  },
  {
   "cell_type": "code",
   "execution_count": null,
   "id": "382adaea",
   "metadata": {},
   "outputs": [],
   "source": [
    "ds_train = HistoDataset(root_data=ROOT_DATA, split=\"train\", output_size=IMG_SIZE,\n",
    "                        thresholds_json_path=THRESHOLDS_JSON,\n",
    "                        vahadane_enable=True, vahadane_device=(\"cuda\" if torch.cuda.is_available() else \"cpu\"))\n",
    "ds_val   = HistoDataset(root_data=ROOT_DATA, split=\"val\",   output_size=IMG_SIZE,\n",
    "                        thresholds_json_path=THRESHOLDS_JSON,\n",
    "                        vahadane_enable=True, vahadane_device=(\"cuda\" if torch.cuda.is_available() else \"cpu\"))\n",
    "ds_test  = HistoDataset(root_data=ROOT_DATA, split=\"test\",  output_size=IMG_SIZE,\n",
    "                        thresholds_json_path=THRESHOLDS_JSON,\n",
    "                        vahadane_enable=True, vahadane_device=(\"cuda\" if torch.cuda.is_available() else \"cpu\"))\n",
    "\n",
    "print(\"Classes (train):\", ds_train.class_counts())\n",
    "print(\"Classes (val):  \", ds_val.class_counts())\n",
    "print(\"Classes (test): \", ds_test.class_counts())\n",
    "len(ds_train), len(ds_val), len(ds_test)"
   ]
  },
  {
   "cell_type": "markdown",
   "id": "531ff42c",
   "metadata": {},
   "source": [
    "## 2) Visualisation rapide (grille)"
   ]
  },
  {
   "cell_type": "code",
   "execution_count": null,
   "id": "bac8ab87",
   "metadata": {},
   "outputs": [],
   "source": [
    "from IPython.display import display\n",
    "grid = ds_train.vis(16)\n",
    "display(grid)"
   ]
  },
  {
   "cell_type": "markdown",
   "id": "c785a37c",
   "metadata": {},
   "source": [
    "## 3) Sanity check d’un batch + plages de pixels"
   ]
  },
  {
   "cell_type": "code",
   "execution_count": null,
   "id": "1b2adebc",
   "metadata": {},
   "outputs": [],
   "source": [
    "dl_train = DataLoader(ds_train, batch_size=BATCH_SIZE, shuffle=False,\n",
    "                      num_workers=NUM_WORKERS, pin_memory=True,\n",
    "                      persistent_workers=(NUM_WORKERS>0))\n",
    "xb, yb, pb = next(iter(dl_train))\n",
    "print(\"xb:\", xb.shape, xb.dtype, float(xb.min()), float(xb.max()))\n",
    "print(\"yb:\", yb.shape, yb.dtype)\n",
    "print(\"ex path:\", pb[0])"
   ]
  },
  {
   "cell_type": "markdown",
   "id": "e260f266",
   "metadata": {},
   "source": [
    "## 4) Débit DataLoader (it/s)"
   ]
  },
  {
   "cell_type": "code",
   "execution_count": null,
   "id": "a5926691",
   "metadata": {},
   "outputs": [],
   "source": [
    "it = iter(dl_train)\n",
    "t0 = time.time(); n=0\n",
    "for _ in range(10):\n",
    "    try:\n",
    "        xb, yb, pb = next(it); n+=1\n",
    "    except StopIteration:\n",
    "        break\n",
    "dt = time.time() - t0\n",
    "print(f\"{n} batches en {dt:.2f}s → {n/dt:.2f} it/s\")"
   ]
  },
  {
   "cell_type": "markdown",
   "id": "3ad2574e",
   "metadata": {},
   "source": [
    "## 5) Non-réutilisation en val/test (unicité des paths)"
   ]
  },
  {
   "cell_type": "code",
   "execution_count": null,
   "id": "09a3712f",
   "metadata": {},
   "outputs": [],
   "source": [
    "def unique_ratio(ds):\n",
    "    seen = set()\n",
    "    for i in range(len(ds)):\n",
    "        _,_,p = ds[i]\n",
    "        seen.add(p)\n",
    "    return len(seen)/len(ds)\n",
    "\n",
    "print(\"val unique ratio:\", unique_ratio(ds_val))\n",
    "print(\"test unique ratio:\", unique_ratio(ds_test))"
   ]
  },
  {
   "cell_type": "markdown",
   "id": "db24317a",
   "metadata": {},
   "source": [
    "## 6) Inspection filtre qualité (scores + seuils JSON)"
   ]
  },
  {
   "cell_type": "code",
   "execution_count": null,
   "id": "2dd8bf6b",
   "metadata": {},
   "outputs": [],
   "source": [
    "import random\n",
    "i = random.randrange(len(ds_train))\n",
    "x, y, p = ds_train[i]\n",
    "cls = ds_train.idx_to_class[int(y)]\n",
    "img = Image.open(p).convert(\"RGB\")\n",
    "metrics = ds_train.qf.score(img)\n",
    "thr = ds_train.class_thresholds.get(cls, {})\n",
    "print(\"class:\", cls)\n",
    "print(\"path:\", p)\n",
    "print(\"metrics:\")\n",
    "for k in sorted(metrics.keys()):\n",
    "    print(f\"  {k:16s} = {metrics[k]:.4f}\")\n",
    "print(\"\\nthresholds (JSON override):\")\n",
    "for k,v in thr.items():\n",
    "    print(f\"  {k:16s} = {v}\")"
   ]
  },
  {
   "cell_type": "markdown",
   "id": "6240e741",
   "metadata": {},
   "source": [
    "## 7) Vahadane ON/OFF — comparaison visuelle (optionnel)"
   ]
  },
  {
   "cell_type": "code",
   "execution_count": null,
   "id": "ca1a25a5",
   "metadata": {},
   "outputs": [],
   "source": [
    "from IPython.display import display\n",
    "ds_no_stain = HistoDataset(root_data=ROOT_DATA, split=\"train\", output_size=IMG_SIZE,\n",
    "                           thresholds_json_path=THRESHOLDS_JSON,\n",
    "                           vahadane_enable=False)\n",
    "grid_off = ds_no_stain.vis(16)\n",
    "grid_on  = ds_train.vis(16)\n",
    "print(\"Normalisation OFF:\")\n",
    "display(grid_off)\n",
    "print(\"Normalisation ON:\")\n",
    "display(grid_on)"
   ]
  },
  {
   "cell_type": "markdown",
   "id": "d35854c2",
   "metadata": {},
   "source": [
    "## 8) Compat rapid-test avec MobileNetV2 (1 batch forward)"
   ]
  },
  {
   "cell_type": "code",
   "execution_count": null,
   "id": "1f0d858f",
   "metadata": {},
   "outputs": [],
   "source": [
    "import torchvision as tv, torch.nn as nn\n",
    "model = tv.models.mobilenet_v2(weights=\"IMAGENET1K_V1\")\n",
    "model.classifier[1] = nn.Linear(model.last_channel, len(ds_train.class_to_idx))\n",
    "model.to(DEVICE).eval()\n",
    "xb, yb, _ = next(iter(dl_train))\n",
    "with torch.no_grad():\n",
    "    out = model(xb.to(DEVICE))\n",
    "print(\"Forward OK:\", out.shape)"
   ]
  }
 ],
 "metadata": {
  "kernelspec": {
   "display_name": "Python 3 (ipykernel)",
   "language": "python",
   "name": "python3"
  },
  "language_info": {
   "codemirror_mode": {
    "name": "ipython",
    "version": 3
   },
   "file_extension": ".py",
   "mimetype": "text/x-python",
   "name": "python",
   "nbconvert_exporter": "python",
   "pygments_lexer": "ipython3",
   "version": "3.11.9"
  }
 },
 "nbformat": 4,
 "nbformat_minor": 5
}
